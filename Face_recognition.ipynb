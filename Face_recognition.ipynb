{
  "nbformat": 4,
  "nbformat_minor": 0,
  "metadata": {
    "colab": {
      "name": "Face recognition.ipynb",
      "provenance": [],
      "collapsed_sections": []
    },
    "kernelspec": {
      "name": "python3",
      "display_name": "Python 3"
    },
    "accelerator": "GPU"
  },
  "cells": [
    {
      "cell_type": "code",
      "metadata": {
        "id": "Zh3qfApHJ5vW",
        "colab_type": "code",
        "colab": {}
      },
      "source": [
        "Simple video face detector using Cascade Classifier"
      ],
      "execution_count": 0,
      "outputs": []
    },
    {
      "cell_type": "code",
      "metadata": {
        "id": "o0B7rHwo6qXB",
        "colab_type": "code",
        "colab": {}
      },
      "source": [
        "import cv2\n",
        "import os\n",
        "import numpy as np"
      ],
      "execution_count": 0,
      "outputs": []
    },
    {
      "cell_type": "code",
      "metadata": {
        "id": "wtreU8Ry5B0L",
        "colab_type": "code",
        "colab": {}
      },
      "source": [
        "subjects = [\"Person0\",\"Person1\", \"Person2\", \"Person3\",\"Person4\"]"
      ],
      "execution_count": 0,
      "outputs": []
    },
    {
      "cell_type": "code",
      "metadata": {
        "id": "oEbkOpAh88b3",
        "colab_type": "code",
        "colab": {}
      },
      "source": [
        "#function to detect face using OpenCV\n",
        "def detect_face(img):\n",
        "    #convert the test image to gray image as opencv face detector expects gray images\n",
        "    gray = cv2.cvtColor(img, cv2.COLOR_BGR2GRAY)\n",
        "    \n",
        "    #load OpenCV face detector\n",
        "    face_cascade = cv2.CascadeClassifier('opencv-files/lbpcascade_frontalface.xml')\n",
        "\n",
        "    #let's detect multiscale (some images may be closer to camera than others) images\n",
        "    #result is a list of faces\n",
        "    faces = face_cascade.detectMultiScale(gray, scaleFactor=1.2, minNeighbors=5);\n",
        "    \n",
        "    #if no faces are detected then return original img\n",
        "    if (len(faces) == 0):\n",
        "        return None, None\n",
        "    \n",
        "    #under the assumption that there will be only one face,\n",
        "    #extract the face area\n",
        "    (x, y, w, h) = faces[0]\n",
        "    \n",
        "    #return only the face part of the image\n",
        "    return gray[y:y+w, x:x+h], faces[0]"
      ],
      "execution_count": 0,
      "outputs": []
    },
    {
      "cell_type": "code",
      "metadata": {
        "id": "mMC5_jlg9ULX",
        "colab_type": "code",
        "colab": {}
      },
      "source": [
        "#this function will read all persons' training images, detect face from each image\n",
        "#and will return two lists of exactly same size, one list of faces and another list of labels for each face\n",
        "def prepare_training_data(data_folder_path):\n",
        "    #get the directories (one directory for each subject) in data folder\n",
        "    dirs = os.listdir(data_folder_path)\n",
        "    \n",
        "    #list to hold all subject faces\n",
        "    faces = []\n",
        "    #list to hold labels for all subjects\n",
        "    labels = []\n",
        "    \n",
        "    #let's go through each directory and read images within it\n",
        "    for dir_name in dirs:\n",
        "        #extract label number of subject from dir_name \n",
        "        #build path of directory containin images for current subject subject\n",
        "        #sample subject_dir_path = \"training-data/s1\"\n",
        "        subject_dir_path = data_folder_path + \"/\" + dir_name\n",
        "        \n",
        "        #get the images names that are inside the given subject directory\n",
        "        subject_images_names = os.listdir(subject_dir_path)\n",
        "\n",
        "        #go through each image name, read image, \n",
        "        #detect face and add face to list of faces\n",
        "        for image_name in subject_images_names:\n",
        "            \n",
        "            #build image path for images with 'face' in it\n",
        "            if 'face' in image_name:\n",
        "              image_path = subject_dir_path + \"/\" + image_name\n",
        "\n",
        "            #read image\n",
        "              image = cv2.imread(image_path)\n",
        "            \n",
        "            #display an image window to show the image \n",
        "              cv2.imshow(\"Training on image...\", image)\n",
        "              cv2.waitKey(100)\n",
        "            \n",
        "            #detect face\n",
        "              face, rect = detect_face(image)\n",
        "    \n",
        "              #we will ignore faces that are not detected\n",
        "              if face is not None:\n",
        "                #add face to list of faces\n",
        "                  faces.append(face)\n",
        "                #add label for this face\n",
        "                  labels.append(label)\n",
        "            \n",
        "    cv2.destroyAllWindows()\n",
        "    cv2.waitKey(1)\n",
        "    cv2.destroyAllWindows()\n",
        "    \n",
        "    return faces, labels"
      ],
      "execution_count": 0,
      "outputs": []
    },
    {
      "cell_type": "code",
      "metadata": {
        "id": "0gDx9OHp-DYb",
        "colab_type": "code",
        "colab": {}
      },
      "source": [
        "faces, labels = prepare_training_data(\"task2\")\n",
        "#print total faces and labels\n",
        "print(\"Total faces: \", len(faces))\n",
        "print(\"Total labels: \", len(labels))"
      ],
      "execution_count": 0,
      "outputs": []
    },
    {
      "cell_type": "code",
      "metadata": {
        "id": "xt3Sg34j-RWb",
        "colab_type": "code",
        "colab": {}
      },
      "source": [
        "face_recognizer = cv2.face.createLBPHFaceRecognizer()\n",
        "face_recognizer.train(faces, np.array(labels))"
      ],
      "execution_count": 0,
      "outputs": []
    },
    {
      "cell_type": "code",
      "metadata": {
        "id": "O8X3ql9j-X28",
        "colab_type": "code",
        "colab": {}
      },
      "source": [
        "#function to draw rectangle on image \n",
        "#according to given (x, y) coordinates and \n",
        "#given width and heigh\n",
        "def draw_rectangle(img, rect):\n",
        "    (x, y, w, h) = rect\n",
        "    cv2.rectangle(img, (x, y), (x+w, y+h), (0, 255, 0), 2)\n",
        "    \n",
        "#function to draw text on give image starting from\n",
        "#passed (x, y) coordinates. \n",
        "def draw_text(img, text, x, y):\n",
        "    cv2.putText(img, text, (x, y), cv2.FONT_HERSHEY_PLAIN, 1.5, (0, 255, 0), 2)"
      ],
      "execution_count": 0,
      "outputs": []
    },
    {
      "cell_type": "code",
      "metadata": {
        "id": "SexrXtLt-ei3",
        "colab_type": "code",
        "colab": {}
      },
      "source": [
        "#this function recognizes the person in image passed\n",
        "#and draws a rectangle around detected face with name of the \n",
        "#subject\n",
        "def predict(test_img):\n",
        "    #make a copy of the image as we don't want to chang original image\n",
        "    img = test_img.copy()\n",
        "    #detect face from the image\n",
        "    face, rect = detect_face(img)\n",
        "\n",
        "    #predict the image using our face recognizer \n",
        "    label= face_recognizer.predict(face)\n",
        "    #get name of respective label returned by face recognizer\n",
        "    label_text = subjects[label]\n",
        "    \n",
        "    #draw a rectangle around face detected\n",
        "    draw_rectangle(img, rect)\n",
        "    #draw name of predicted person\n",
        "    draw_text(img, label_text, rect[0], rect[1]-5)\n",
        "    \n",
        "    return img"
      ],
      "execution_count": 0,
      "outputs": []
    },
    {
      "cell_type": "code",
      "metadata": {
        "id": "UyHsdKqk-nqd",
        "colab_type": "code",
        "colab": {}
      },
      "source": [
        "#load test images\n",
        "test_img1 = cv2.imread(\"task2/person3/person3.jpg\")\n",
        "test_img2 = cv2.imread(\"task2/person2/person2.jpg\")\n",
        "\n",
        "#perform a prediction\n",
        "predicted_img1 = predict(test_img1)\n",
        "predicted_img2 = predict(test_img2)\n",
        "print(\"Prediction complete\")\n",
        "\n",
        "#display both images\n",
        "cv2.imshow(subjects[1], predicted_img1)\n",
        "cv2.imshow(subjects[2], predicted_img2)\n",
        "cv2.waitKey(0)\n",
        "cv2.destroyAllWindows()"
      ],
      "execution_count": 0,
      "outputs": []
    },
    {
      "cell_type": "code",
      "metadata": {
        "id": "dLVL2VteITEh",
        "colab_type": "code",
        "colab": {}
      },
      "source": [
        "\n",
        "\n",
        "# Create a VideoCapture object and read from input file\n",
        "\n",
        "cap = cv2.VideoCapture('test_videos/cam1-68280')\n",
        "\n",
        "# Check if camera opened successfully\n",
        "if (cap.isOpened()== False): \n",
        "  print(\"Error opening video stream or file\")\n",
        "\n",
        "# Read until video is completed\n",
        "while(cap.isOpened()):\n",
        "  # Capture frame-by-frame\n",
        "  ret, frame = cap.read()\n",
        "  if ret == True:\n",
        "\n",
        "    # Display the resulting frame\n",
        "    cv2.imshow('Frame',frame)\n",
        "    cv2.imread(frame)\n",
        "    predicted_ = predict(frame)\n",
        "    \n",
        "\n",
        "\n",
        "    # Press Q on keyboard to  exit\n",
        "    if cv2.waitKey(25) & 0xFF == ord('q'):\n",
        "      break\n",
        "\n",
        "  # Break the loop\n",
        "  else: \n",
        "    break\n",
        "\n",
        "# When everything done, release the video capture object\n",
        "cap.release()\n",
        "\n",
        "# Closes all the frames\n",
        "cv2.destroyAllWindows()\n"
      ],
      "execution_count": 0,
      "outputs": []
    }
  ]
}